{
 "cells": [
  {
   "cell_type": "markdown",
   "metadata": {},
   "source": [
    "# notebook demonstrating ckan api dataset search"
   ]
  },
  {
   "cell_type": "markdown",
   "metadata": {},
   "source": [
    "This notebook demonstrates how to search for datasets in Wifire Commons using the\n",
    "<a href = \"https://github.com/ckan/ckanapi\">ckan api </a>. Detailed query syntax examples can be found in the <a href = \"https://solr.apache.org/guide/6_6/common-query-parameters.html\">SOLR </a> documentation."
   ]
  },
  {
   "cell_type": "markdown",
   "metadata": {},
   "source": [
    "<h3>Notebook Overview:</h3>\n",
    "<ol><a href='#simple_query'><li>Query by organization, tag, or data format </li></a>\n",
    "    <a href='#bbox'><li>Query by bounding box </li></a>\n",
    "    <a href='#cfo'><li>Query by bounding box & organization (ex. California Forest Observatory) and explore dataset package</li></a>\n",
    "  \n",
    "\n",
    "    \n",
    "    "
   ]
  },
  {
   "cell_type": "markdown",
   "metadata": {},
   "source": [
    "### First, you will want to install the install ckanapi library"
   ]
  },
  {
   "cell_type": "markdown",
   "metadata": {},
   "source": [
    "Installation with **pip**:\n",
    "```\n",
    "pip install ckanapi\n",
    "```\n",
    "Installation with **conda**:\n",
    "```\n",
    "conda install -c conda-forge ckanapi\n",
    "```"
   ]
  },
  {
   "cell_type": "code",
   "execution_count": 1,
   "metadata": {},
   "outputs": [],
   "source": [
    "from ckanapi import RemoteCKAN\n",
    "import requests, json, pprint"
   ]
  },
  {
   "cell_type": "markdown",
   "metadata": {},
   "source": [
    "## query ckan for specific datasets"
   ]
  },
  {
   "cell_type": "code",
   "execution_count": 2,
   "metadata": {},
   "outputs": [],
   "source": [
    "demo = RemoteCKAN('https://wifire-data.sdsc.edu/')"
   ]
  },
  {
   "cell_type": "markdown",
   "metadata": {},
   "source": [
    "Many CKAN API functions can only be used by authenticated users. Use the apikey parameter to supply your CKAN API key to RemoteCKAN. Contact Wifire commons admin for a key.\n",
    "```\n",
    "demo = RemoteCKAN('https://wifire-data.sdsc.edu/', apikey='MY-SECRET-API-KEY')\n",
    "```"
   ]
  },
  {
   "cell_type": "markdown",
   "metadata": {},
   "source": [
    "<a id='simple_query'><h3>Query by organization, tag, or data format </h3></a>"
   ]
  },
  {
   "cell_type": "markdown",
   "metadata": {},
   "source": [
    "#### search datasets by organization (ex. SDGE)"
   ]
  },
  {
   "cell_type": "code",
   "execution_count": 3,
   "metadata": {},
   "outputs": [
    {
     "data": {
      "text/plain": [
       "14"
      ]
     },
     "execution_count": 3,
     "metadata": {},
     "output_type": "execute_result"
    }
   ],
   "source": [
    "packages = demo.action.package_search(q='+organization:sdge')\n",
    "packages['count']\n",
    "#packages"
   ]
  },
  {
   "cell_type": "markdown",
   "metadata": {},
   "source": [
    "#### search datasets by tag (ex. Forecasts)"
   ]
  },
  {
   "cell_type": "code",
   "execution_count": 4,
   "metadata": {},
   "outputs": [
    {
     "data": {
      "text/plain": [
       "13"
      ]
     },
     "execution_count": 4,
     "metadata": {},
     "output_type": "execute_result"
    }
   ],
   "source": [
    "packages = demo.action.package_search(q='+tags:Forecasts')\n",
    "packages['count']\n",
    "#packages"
   ]
  },
  {
   "cell_type": "markdown",
   "metadata": {},
   "source": [
    "#### search datasets by data format (ex. THREDDS)"
   ]
  },
  {
   "cell_type": "code",
   "execution_count": 5,
   "metadata": {},
   "outputs": [
    {
     "data": {
      "text/plain": [
       "8"
      ]
     },
     "execution_count": 5,
     "metadata": {},
     "output_type": "execute_result"
    }
   ],
   "source": [
    "packages = demo.action.package_search(q='+res_format:THREDDS')\n",
    "packages['count']\n",
    "#packages"
   ]
  },
  {
   "cell_type": "markdown",
   "metadata": {},
   "source": [
    "#### putting them all together"
   ]
  },
  {
   "cell_type": "code",
   "execution_count": 6,
   "metadata": {},
   "outputs": [
    {
     "data": {
      "text/plain": [
       "8"
      ]
     },
     "execution_count": 6,
     "metadata": {},
     "output_type": "execute_result"
    }
   ],
   "source": [
    "packages = demo.action.package_search(q='+organization:sdge +res_format:THREDDS +tags:Forecasts')\n",
    "packages['count']\n",
    "#packages"
   ]
  },
  {
   "cell_type": "markdown",
   "metadata": {},
   "source": []
  },
  {
   "cell_type": "markdown",
   "metadata": {},
   "source": [
    "<a id='bbox'><h3>Query by bounding box </h3></a>"
   ]
  },
  {
   "cell_type": "markdown",
   "metadata": {},
   "source": [
    "#### Let's query all the datasets available in a specified bounding box"
   ]
  },
  {
   "cell_type": "code",
   "execution_count": 7,
   "metadata": {},
   "outputs": [],
   "source": [
    "# define lat/long coordinates for the bounding box. Let's consider a region near Yosemite National Park\n",
    "\n",
    "min_Longitude, min_Latitude, max_Longitude, max_Latitude = -119.640426,37.79059,-119.46876,37.90906\n",
    "\n",
    "WifireCommonsURL='https://wifire-data.sdsc.edu'\n",
    "\n",
    "apiAction=f'/api/3/action/package_search?q=&ext_bbox={min_Longitude}%2C{min_Latitude}%2C{max_Longitude}%2C{max_Latitude}&rows=10000'\n",
    "\n",
    "url = WifireCommonsURL+apiAction\n",
    "\n",
    "response = requests.request(\"GET\", url)\n",
    "packages = response.json()\n"
   ]
  },
  {
   "cell_type": "code",
   "execution_count": 8,
   "metadata": {},
   "outputs": [
    {
     "data": {
      "text/plain": [
       "154"
      ]
     },
     "execution_count": 8,
     "metadata": {},
     "output_type": "execute_result"
    }
   ],
   "source": [
    "# here's the number of datasets found\n",
    "len(packages['result']['results'])"
   ]
  },
  {
   "cell_type": "code",
   "execution_count": null,
   "metadata": {},
   "outputs": [],
   "source": [
    "# take a look at the entire response package which contains all the datasets and resources\n",
    "#pprint.pprint(packages)"
   ]
  },
  {
   "cell_type": "code",
   "execution_count": null,
   "metadata": {},
   "outputs": [],
   "source": [
    "# here's just the first result\n",
    "#packages['result']['results'][0]"
   ]
  },
  {
   "cell_type": "markdown",
   "metadata": {},
   "source": [
    "### List all dataset names available in that bounding box"
   ]
  },
  {
   "cell_type": "code",
   "execution_count": 9,
   "metadata": {},
   "outputs": [
    {
     "name": "stdout",
     "output_type": "stream",
     "text": [
      "['caloes-operation-centers', 'caltrans-military-airports', 'university-lands', 'caltrans-hospital-heliports', 'tier-3-extreme', 'prescribed-burns', 'other-burns', 'utilities-fire-threat-areas', 'tier-2-elevated', 'caltrans-automated-weather-observation-systems-locations', 'caltrans-public-use-airports', 'caltrans-airport-runways', 'california-department-of-fish-and-wildlife-land-ownership', 'national-levee-database-centerlines', 'community-colleges', 'surfacefuels', 'ladderfueldensity', 'canopylayercount', 'canopyheight', 'canopycover', 'canopybulkdensity', 'canopybaseheight', 'california-natural-gas-service-areas', 'natural-hazards-flash-flood-potential-index-noaa', 'caloes-fire-mutual-aid-regions', 'caloes-administrative-regions-and-mars', 'caloes-law-mutual-aid-regions', 'counties-in-california', 'county-boundaries', 'frap-public-lands-ownership', 'cal-fire-operational-units', 'caloes-administrative-regions', 'caltrans-wildfire-emergency-road-closures', 'fire-mutual-aid-regions-caloes', 'california-lakes', 'frap-direct-protection-areas', 'cal-fire-facilities-for-wildland-fire-protection', 'cal-fire-facilities-2019', 'school-centroids', 'burn-areas', 'california-fire-perimeters-1878-to-2019', 'california-school-district-areas-2018-19', 'california-electric-transmission-lines', 'california-river-and-stream-hydrography', 'frap-fire-threat-areas', 'road-tunnels', 'national-bridge-inventory-nbi-bridges', 'natural-gas-pipelines', 'california-electric-power-plants', 'basin-outlets', 'segment-probability-estimates', 'segment-volume-estimates', 'watchstreams', 'fire-perimeter', 'basin-probability-estimates', 'usgs-post-wildfire-debris-flow-potential-for-2018', 'segment-combined-hazard-estimates', 'basin-volume-estimates', 'basin-combined-hazard-estimates', 'usgs-preliminary-hazard-assessment-2020', 'eventpolygon2017', 'ca-energy-commission-gas-stations', 'current-perimeters', 'natural-gas-import-export-facilities', 'eventline2018', 'wildfire-perimeters-nifc', 'california-electric-utility-service-territory', 'ozone-and-pm-pm2-5-and-pm10-current', 'usa-current-wildfires', 'current-incidents', 'aquifers', 'nws-48-hour-smoke-forecast', 'local-emergency-operations-centers-eoc', 'public-transit-routes', 'pol-pumping-stations', 'railroad-bridges', '24-hour-forecast-river-stages', '48-hour-forecast-river-stages', '96-hour-forecast-river-stages', '144-hour-forecast-river-stages', '240-hour-forecast-river-stages', '264-hour-forecast-river-stages', '288-hour-forecast-river-stages', '312-hour-forecast-river-stages', '72-hour-forecast-river-stages', '120-hour-forecast-river-stages', '336-hour-forecast-river-stages', 'full-forecast-period-stages', '216-hour-forecast-river-stages', '192-hour-forecast-river-stages', '168-hour-forecast-river-stages', 'historic-perimeters-2019', 'rail-network', 'eventpolygon2018', 'observed-river-stages', 'nws-river-gauge-current-and-forecast-flood-stages', 'national-predictive-service-areas-psa-boundaries', 'fire-stations', 'historic-perimeters-combined-2000-2018', 'eventline2019', 'eventpoint2017', 'eventline2017', 'eventpolygon2019', 'security-zones', 'safety-zones', 'eventpoint2019', 'petroleum-terminals', 'usa-federal-lands', 'major-state-government-buildings', 'eventpoint2018', 'indian-lands-and-native-entities', 'usa-flood-hazard-areas', 'national-shelter-system-facilities', 'cellular-towers', 'emergency-medical-service-stations', 'psap-911-service-area-boundaries', 'american-red-cross-regions', 'hospitals', 'national-gacc-boundaries', 'natural-gas-processing-plants', 'california-nws-watches-and-warnings', 'airnow-air-quality-monitoring-data-current', 'u-s-dept-of-transportation-airports', 'land-mobile-commercial-transmission-towers', 'navigable-waterway-network-lines', 'wfigs-wildland-fire-perimeters-full-history', 'wfigs-2021-wildland-fire-perimeters-to-date', 'wfigs-2021-wildland-fire-locations-to-date', 'wfigs-last-24-hour-wildland-fire-locations', 'wfigs-wildland-fire-locations-full-history', 'wfigs-current-wildland-fire-locations', 'wfigs-current-wildland-fire-perimeters', 'cal-oes-shelters-caleoc', 'active-fire-event-lines', 'fire-event-points', 'active-fire-event-polygons', 'active-fire-perimeters-caloes-tracked', 'fire-event-lines', 'fire-points-caloes-tracked', 'fire-event-polygons', 'active-fire-event-points', 'active-fires-caloes-tracked', 'all-fire-perimeters-caloes-trackedpublic', 'hazardous-air-quality-zone-polygons', 'hazardous-air-quality-dissolved-polygons', 'hazardous-wildfire-conditions-zone-polygons', 'hazardous-wildfire-conditions-dissolved-polygons', 'cold-and-heat-hazards-dissolved-polygons', 'world-transportation', 'noaa-national-weather-service-nws-watches-warnings-advisories-and-statements', 'cold-and-heat-hazards-zone-polygons', 'all-fire-points-caloes-trackedpublic', 'fire-progression-daily-growth', 'fire-perimeters-caloes-tracked']\n"
     ]
    }
   ],
   "source": [
    "datasets = [i['name'] for i in packages['result']['results']]\n",
    "print(datasets)"
   ]
  },
  {
   "cell_type": "code",
   "execution_count": null,
   "metadata": {},
   "outputs": [],
   "source": []
  },
  {
   "cell_type": "markdown",
   "metadata": {},
   "source": [
    "<a id='cfo'><h3>Query by bounding box & organization (ex. California Forest Observatory) </h3></a>\n"
   ]
  },
  {
   "cell_type": "markdown",
   "metadata": {},
   "source": [
    "#### let's take a look at the California Forest Observatory (SALO) datasets "
   ]
  },
  {
   "cell_type": "code",
   "execution_count": 10,
   "metadata": {},
   "outputs": [],
   "source": [
    "# define lat/long coordinates for the bounding box. Let's consider a region near Yosemite National Park\n",
    "# define organization\n",
    "\n",
    "min_Longitude, min_Latitude, max_Longitude, max_Latitude = -119.640426,37.79059,-119.46876,37.90906\n",
    "organization = 'california-forest-observatory'\n",
    "\n",
    "WifireCommonsURL='https://wifire-data.sdsc.edu'\n",
    "\n",
    "apiAction=f'/api/3/action/package_search?q=organization:{organization}&ext_bbox={min_Longitude}%2C{min_Latitude}%2C{max_Longitude}%2C{max_Latitude}&rows=10000'\n",
    "\n",
    "url = WifireCommonsURL+apiAction\n",
    "\n",
    "response = requests.request(\"GET\", url)\n",
    "packages = response.json()"
   ]
  },
  {
   "cell_type": "code",
   "execution_count": 11,
   "metadata": {},
   "outputs": [
    {
     "data": {
      "text/plain": [
       "7"
      ]
     },
     "execution_count": 11,
     "metadata": {},
     "output_type": "execute_result"
    }
   ],
   "source": [
    "# Here's the number of California Forest Observatory (SALO) datasets in that bounding box\n",
    "len(packages['result']['results'])"
   ]
  },
  {
   "cell_type": "code",
   "execution_count": 12,
   "metadata": {},
   "outputs": [
    {
     "name": "stdout",
     "output_type": "stream",
     "text": [
      "['surfacefuels', 'ladderfueldensity', 'canopylayercount', 'canopyheight', 'canopycover', 'canopybulkdensity', 'canopybaseheight']\n"
     ]
    }
   ],
   "source": [
    "# Here's the names of the California Forest Observatory (SALO) datasets in that bounding box\n",
    "datasets = [i['name'] for i in packages['result']['results']]\n",
    "print(datasets)"
   ]
  },
  {
   "cell_type": "markdown",
   "metadata": {},
   "source": [
    "### let's examine surfacefuels"
   ]
  },
  {
   "cell_type": "code",
   "execution_count": 13,
   "metadata": {},
   "outputs": [
    {
     "data": {
      "text/plain": [
       "['https://storage.googleapis.com/cfo-public/vegetation/California-Vegetation-SurfaceFuels-2016-Summer-00010m.tif',\n",
       " 'https://storage.googleapis.com/cfo-public/vegetation/California-Vegetation-SurfaceFuels-2017-Summer-00010m.tif',\n",
       " 'https://storage.googleapis.com/cfo-public/vegetation/California-Vegetation-SurfaceFuels-2018-Summer-00010m.tif',\n",
       " 'https://storage.googleapis.com/cfo-public/vegetation/California-Vegetation-SurfaceFuels-2019-Summer-00010m.tif',\n",
       " 'https://storage.googleapis.com/cfo-public/vegetation/California-Vegetation-SurfaceFuels-2020-Summer-00010m.tif']"
      ]
     },
     "execution_count": 13,
     "metadata": {},
     "output_type": "execute_result"
    }
   ],
   "source": [
    "# here are all the resources for surface fuels\n",
    "resources = [i['url'] for i in packages['result']['results'][0]['resources']]\n",
    "resources"
   ]
  },
  {
   "cell_type": "code",
   "execution_count": null,
   "metadata": {},
   "outputs": [],
   "source": []
  }
 ],
 "metadata": {
  "kernelspec": {
   "display_name": "Python 3",
   "language": "python",
   "name": "python3"
  },
  "language_info": {
   "codemirror_mode": {
    "name": "ipython",
    "version": 3
   },
   "file_extension": ".py",
   "mimetype": "text/x-python",
   "name": "python",
   "nbconvert_exporter": "python",
   "pygments_lexer": "ipython3",
   "version": "3.8.5"
  }
 },
 "nbformat": 4,
 "nbformat_minor": 4
}
