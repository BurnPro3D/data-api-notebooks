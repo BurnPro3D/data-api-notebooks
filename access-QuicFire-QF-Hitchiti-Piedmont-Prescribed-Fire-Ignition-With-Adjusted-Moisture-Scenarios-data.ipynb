{
 "cells": [
  {
   "cell_type": "markdown",
   "metadata": {},
   "source": [
    "## Notebook demonstrating how to access Hitchiti-Piedmont-Prescribed-Fire-Ignition-With-Adjusted-Moisture-Scenarios data"
   ]
  },
  {
   "cell_type": "markdown",
   "metadata": {},
   "source": [
    "This notebook demonstrates how to access the Hitchiti-Piedmont-Prescribed-Fire-Ignition-With-Adjusted-Moisture-Scenarios data. The data contain two ensemble runs with varying fuel moisture. "
   ]
  },
  {
   "cell_type": "markdown",
   "metadata": {},
   "source": [
    "<h3>Notebook Overview:</h3>\n",
    "<ol><a href='#introduction'><li>Introduction </li></a>\n",
    "    <a href='#parameterization'><li>Model Parameterization </li></a>\n",
    "    <a href='#s3'><li>Examine data in s3 bucket </li></a>\n",
    "    <a href='#zarr'><li>Open sample outputs.zarr file (ex. Orig_Moisture experiment) and explore data</li></a>\n",
    "    <a href='#gif'><li>Visualize simulation gif</li></a>\n",
    "    <a href='#metrics'><li>Calculate fuel metrics (ex. percent consumption)</li></a> "
   ]
  },
  {
   "cell_type": "markdown",
   "metadata": {},
   "source": [
    "<a id='introduction'><h3>Introduction </h3></a>"
   ]
  },
  {
   "cell_type": "markdown",
   "metadata": {},
   "source": [
    "**Hitchiti (Piedmont) Prescribed Fire Ignition w/ Adjusted Moisture Scenarios**\n",
    "\n",
    "Please contact **Daniel Rosales** (dgiron@talltimbers.org) or **Zachary Cope**\n",
    "(zcope@talltimbers.org) for any questions,comments or concerns about the\n",
    "simulations.\n",
    "\n",
    "QUIC-Fire -  Version: Jan2022\n",
    "\n",
    "Tall Timbers Research Station partnered with the United States Forest Service (USFS)\n",
    "Southern Research Station and Fish and Wildlife Service (FWS) to collect high \n",
    "resolution data for a prescribed burn plot in order to create data that could be\n",
    "used by high resolution fire behavior models. Field measurements, terrestrial laser scanning (TLS), and airborne laser scanning (ALS) were collected for 3 plots in the Piedmont region. The runs presented here are \n",
    "for the 'Western Plot' in the Hitchiti domain. Ignitions were done as a combination\n",
    "of handlines in the exterior and drone air-dropped ignition spheres ('ping pong balls').\n",
    "ALS/TLS measurements were used to generate tree characteristics and surface fuel \n",
    "representations by USFS employees. \n",
    " \n",
    "Provided are Zarr arrays containing the bulk density over time \n",
    "for 2 different runs: the original moisture condition and an adjusted moisture\n",
    "environment where riparian areas were modified to represent the higher moisture\n",
    "content present. Riparian areas were designated as those under 125m in elevation.\n",
    "The simulation was run for 17,000 s, which is a little over 4.5 hours.\n",
    "The first time step then is the initial condition of the fuel. The arrays are \n",
    "structured as [ntimes,nz,ny,nx]. The 'ntimes' is not the total simulation time\n",
    "but the amount of time-steps that were outputted. For these simulations, \n",
    "that would be every 100 seconds. Ny and Nx will be set for 1237, 1165\n",
    "for both runs, and Nz is set to 16 (vertical cells in the fuel grid).\n",
    "\n",
    "Provided is also the generating text files for the run with the exception\n",
    "of the DAT arrays containg the fuel information. The run files are left\n",
    "here for completeness.\n",
    "\n",
    "Please contact Daniel Rosales (dgiron@talltimbers.org) or Zachary Cope\n",
    "(zcope@talltimbers.org) for any questions,comments or concerns about the\n",
    "simulations.\n",
    "------------------------------------------------------------------------"
   ]
  },
  {
   "cell_type": "markdown",
   "metadata": {},
   "source": [
    "**Table 1. Simulation parameter values**\n",
    "\n",
    "| Parameter | Value |\n",
    "| --- | --- |\n",
    "| Domain Size: | 2474 x 2330 m  [1237 x 1165 cells] |\n",
    "| Simulation Time: | 17,000 s  |\n",
    "| Time step: | 1 s |\n",
    "| Vertical Resolution (Fuel Grid):|   16 cells high, 1m non-uniform [this is the grid that is exported], contained in Vertical_Cell_Heights.txt  |\n",
    "| Vertical Resolution (Wind Grid): | 50 cells high, fuel cell heights, contained in Vertical_Cell_Heights.txt |"
   ]
  },
  {
   "cell_type": "markdown",
   "metadata": {},
   "source": [
    "**Table 2. Vertical_Cell_Heights.txt**\n",
    "\n",
    "#### Fuel Grid - 16 Vertical Layers\n",
    "\n",
    "\n",
    "| value |\n",
    "| --- |\n",
    "| 1 |\n",
    "| 1 |\n",
    "| 1 |\n",
    "| 1 |\n",
    "| 1 |\n",
    "| 2 |\n",
    "| 2.5 |\n",
    "| 2.5 |\n",
    "| 2.5 |\n",
    "| 2.5 |\n",
    "| 5 |\n",
    "| 5 |\n",
    "| 5 |\n",
    "| 5 |\n",
    "| 10 |\n",
    "| 10 |\n",
    "\n",
    "\n",
    "#### Wind Grid - 50 Vertical Layers\n",
    "\n",
    "| Value | \n",
    "| --- |\n",
    "| 1.50200773 |\n",
    "| 2.3011972099999998 |\n",
    "| 1.6706573399999995 |\n",
    "| 1.83930696 |\n",
    "| 2.056142180000001 |\n",
    "| 2.3211629999999985 |\n",
    "| 2.6343694200000005 |\n",
    "| 2.99576145 |\n",
    "| 3.405339090000002 |\n",
    "| 3.8631023199999994 |\n",
    "| 4.369051159999998 |\n",
    "| 4.9231856 |\n",
    "| 5.5255056499999995 |\n",
    "| 6.17601131 |\n",
    "| 6.874702550000002 |\n",
    "| 7.621579420000003 |\n",
    "| 8.416641879999993 |\n",
    "| 9.259889950000002 |\n",
    "| 10.151323610000006 |\n",
    "| 11.090942900000002 |\n",
    "| 12.078747759999999 |\n",
    "| 13.114738259999996 |\n",
    "| 14.198914329999994 |\n",
    "| 15.331276029999998 |\n",
    "| 16.51182332000002 |\n",
    "| 17.740556209999994 |\n",
    "| 19.017474719999996 |\n",
    "| 20.34257882 |\n",
    "| 21.715868540000002 |\n",
    "| 23.13734384 |\n",
    "| 24.607004759999995 |\n",
    "| 26.12485128000003 |\n",
    "| 27.69088339999996 |\n",
    "| 29.305101130000025 |\n",
    "| 30.967504459999986 |\n",
    "| 32.67809340000002 |\n",
    "| 34.43686792999995 |\n",
    "| 36.24382808000007 |\n",
    "| 38.09897382999998 |\n",
    "| 40.00230517 |\n",
    "| 41.953822129999935 |\n",
    "| 50 |\n",
    "| 60 |\n",
    "| 75 |\n",
    "| 100 |\n",
    "| 150 |\n",
    "| 200 |\n",
    "| 250 |\n",
    "| 300 |\n",
    "| 400 |"
   ]
  },
  {
   "cell_type": "markdown",
   "metadata": {},
   "source": [
    "------------------------------------------------------------------------\n",
    "<a id='parameterization'><h3>MODEL PARAMETRIZATION </h3></a>"
   ]
  },
  {
   "cell_type": "markdown",
   "metadata": {},
   "source": [
    "### Model Parametrization - Fuels\n",
    "\n",
    "Canopy and surface fuels were built using the methodology described in Linn et al. 2005.\n",
    "Canopy fuel was constructed using tree locations and attributes derived from the\n",
    "ALS data collected for the burn plot. The geographic locations of the trees were\n",
    "constructed using a tree detection algorithm designed to find treetops within the\n",
    "canopy height model (CHM).  The crowns were delineated using Silva 2016 algorithm\n",
    "and converted into polygons. The following tree attributes were calculated for\n",
    "each polygon: crown height, height to live crown (htlc), and crown radius.  The \n",
    "tree attributes from the crown polygon were joined with the tree locations using \n",
    "a spatial join for all intersecting features. Using the Linn et al. 2005 fuel building \n",
    "algorithm, each tree was converted into a three-dimensional axisymmetric shape \n",
    "bound to the top and bottom by two paraboloids to represent an idealized tree. Fine \n",
    "fuels were added to each tree shape, with fuel declining toward the center of the \n",
    "trunk and toward the bottom of the canopy. Fuel from the trees was subsequently \n",
    "split between voxels based on how it overlapped with the three-dimensional voxel \n",
    "array. \n",
    "Surface fuel was constructed by approximating the placement of litter and grass \n",
    "fuels beneath the canopy. The Linn et al. 2005 algorithm assumes that grass concentrations \n",
    "fall beneath the canopy and that litter load increases based on the amount of \n",
    "canopy above it. Clip plot data from the site was used to calculate the average \n",
    "fuel loads for grass and litter fuel.  Average litter fuel loading was calculated \n",
    "by taking the average sum of the dead woody litter, pine needle, and conifer litter \n",
    "from each clip plot, and average grass fuel loading was calculated by taking the \n",
    "average the surface fuel values categorized as other, which consisted of grasses, \n",
    "forbs, vines, and conifer seedlings. The average litter and grass fuel loading \n",
    "values were determined to be 0.53 and 0.15 kg/m2, respectively. Fuel loading \n",
    "concentration for litter and grass placed by the Linn et al. 2005 fuel building algorithm \n",
    "where set to match the average surface fuel concentrations calculated from the field data.\n",
    "\n",
    "\n",
    "### Model Parametrization - Weather\n",
    "\n",
    "The reconstructions used hourly wind data collected at the Brender Remote Automatic \n",
    "Weather Station (RAWS) to simulate the direction and speed of the ambient wind.  \n",
    "\n",
    "\n",
    "### Model Parametrization - Ignitions\n",
    "\n",
    "The Hitchiti experimental burns used a combination of drip torch ignition and aerial \n",
    "drone ignitions. The reconstruction used point ignitions to simulate the ignition \n",
    "patterns of the burn. To replicate the aerial ignition pattern, point ignitions were \n",
    "placed in 10m increments along the portions of the drone’s flight path that the drone \n",
    "was dropping balls. This resulted in a total of 1,514 aerials which was slightly under \n",
    "the roughly 1600 ignitions reported by the drone pilot. Times for the aerial ignitions \n",
    "were dteremined by taking the timestamp from the nearest point of the drone flight path \n",
    "shapefile to each ignition point. To reconstruct the drip torch ignitions, point \n",
    "ignitions were placed in 2m increments along the line shapefile for the drip torch \n",
    "ignitions. The times for the drip torch ignition were determined using the start and \n",
    "stop time attributes for each line.  It was assumed that each line was ignited at a \n",
    "constant rate. The times of point ignitions along the line were set to occur in even \n",
    "time intervals, with the first ignition occurring at the reported start time and the \n",
    "last ignition at the reported stop time.\n",
    "\n",
    "\n",
    "### Model Parametrization - Fuel Breaks\n",
    "\n",
    "The streams and roads were two relevant fuel breaks on the western burn plot. \n",
    "Line shapefiles for each of these features were used to replicate the fuel breaks \n",
    "within the QUIC-Fire fuel domain. Streams and roads were given an estimated width of \n",
    "3 and 6m, respectively, and fuel was removed from cells within the fuel domain that \n",
    "overlapped with the buffered line features"
   ]
  },
  {
   "cell_type": "code",
   "execution_count": 1,
   "metadata": {},
   "outputs": [],
   "source": [
    "import zarr\n",
    "import s3fs\n",
    "import matplotlib.image as img\n",
    "import matplotlib.pyplot as plt\n",
    "import numpy as np\n",
    "from IPython.display import Image"
   ]
  },
  {
   "cell_type": "code",
   "execution_count": 2,
   "metadata": {},
   "outputs": [],
   "source": [
    "s3 = s3fs.S3FileSystem(client_kwargs={\n",
    "                    \"endpoint_url\": 'https://wifire-data.sdsc.edu:9000',\n",
    "                    \"verify\": False,\n",
    "                },\n",
    "                    anon=True\n",
    "                )"
   ]
  },
  {
   "cell_type": "markdown",
   "metadata": {},
   "source": [
    "<a id='s3'><h3>Examine data in s3 bucket </h3></a>"
   ]
  },
  {
   "cell_type": "code",
   "execution_count": 3,
   "metadata": {},
   "outputs": [
    {
     "data": {
      "text/plain": [
       "['public/QF-Hitchiti-Piedmont-sample/Adjusted_Moisture',\n",
       " 'public/QF-Hitchiti-Piedmont-sample/Orig_Moisture',\n",
       " 'public/QF-Hitchiti-Piedmont-sample/ReadMe.txt',\n",
       " 'public/QF-Hitchiti-Piedmont-sample/RunFiles',\n",
       " 'public/QF-Hitchiti-Piedmont-sample/Vertical_Cell_Heights.txt',\n",
       " 'public/QF-Hitchiti-Piedmont-sample/Visualizations']"
      ]
     },
     "execution_count": 3,
     "metadata": {},
     "output_type": "execute_result"
    }
   ],
   "source": [
    "# Let's examine the file structure of the s3 bucket holding the data. \n",
    "# There are folders containing Adjusted_Moisture and Orig_Moisture data as well as Visualizations\n",
    "\n",
    "s3.ls('public/QF-Hitchiti-Piedmont-sample/')"
   ]
  },
  {
   "cell_type": "code",
   "execution_count": 4,
   "metadata": {},
   "outputs": [
    {
     "data": {
      "text/plain": [
       "['public/QF-Hitchiti-Piedmont-sample/Orig_Moisture/Outputs.zarr']"
      ]
     },
     "execution_count": 4,
     "metadata": {},
     "output_type": "execute_result"
    }
   ],
   "source": [
    "# We can see the Outputs.zarr array for the Orig_Moisture experiment\n",
    "s3.ls('public/QF-Hitchiti-Piedmont-sample/Orig_Moisture')"
   ]
  },
  {
   "cell_type": "markdown",
   "metadata": {},
   "source": [
    "<a id='zarr'><h3>Let's open the data for Orig_Moisture experiment and explore further </h3></a>"
   ]
  },
  {
   "cell_type": "code",
   "execution_count": 5,
   "metadata": {},
   "outputs": [],
   "source": [
    "# set root for appropriate data path (in this case, let's look at '/public/QF-Hitchiti-Piedmont-sample/Orig_Moisture/Outputs.zarr' data)\n",
    "\n",
    "store = s3fs.S3Map(root='/public/QF-Hitchiti-Piedmont-sample/Orig_Moisture/Outputs.zarr', s3=s3, check=False)\n",
    "z = zarr.open(store=store)"
   ]
  },
  {
   "cell_type": "markdown",
   "metadata": {},
   "source": [
    "### View metadata"
   ]
  },
  {
   "cell_type": "code",
   "execution_count": 6,
   "metadata": {},
   "outputs": [
    {
     "data": {
      "text/plain": [
       "{'dimension': ['t', 'z', 'y', 'x'], 'sim_time': 17000, 'timestep': 100}"
      ]
     },
     "execution_count": 6,
     "metadata": {},
     "output_type": "execute_result"
    }
   ],
   "source": [
    "dict(z.attrs)"
   ]
  },
  {
   "cell_type": "markdown",
   "metadata": {},
   "source": [
    "### View data variables"
   ]
  },
  {
   "cell_type": "code",
   "execution_count": 7,
   "metadata": {},
   "outputs": [
    {
     "data": {
      "text/plain": [
       "{'fuel_density': <zarr.core.Array '/fuel_density' (171, 16, 1165, 1237) float16>}"
      ]
     },
     "execution_count": 7,
     "metadata": {},
     "output_type": "execute_result"
    }
   ],
   "source": [
    "dict(z)"
   ]
  },
  {
   "cell_type": "code",
   "execution_count": 8,
   "metadata": {},
   "outputs": [
    {
     "data": {
      "text/plain": [
       "(171, 16, 1165, 1237)"
      ]
     },
     "execution_count": 8,
     "metadata": {},
     "output_type": "execute_result"
    }
   ],
   "source": [
    "z['fuel_density'].shape"
   ]
  },
  {
   "cell_type": "code",
   "execution_count": 9,
   "metadata": {},
   "outputs": [
    {
     "data": {
      "text/plain": [
       "zarr.core.Array"
      ]
     },
     "execution_count": 9,
     "metadata": {},
     "output_type": "execute_result"
    }
   ],
   "source": [
    "type(z['fuel_density'])"
   ]
  },
  {
   "cell_type": "code",
   "execution_count": 10,
   "metadata": {},
   "outputs": [
    {
     "data": {
      "text/plain": [
       "numpy.ndarray"
      ]
     },
     "execution_count": 10,
     "metadata": {},
     "output_type": "execute_result"
    }
   ],
   "source": [
    "type(z['fuel_density'][0,0,:,:])"
   ]
  },
  {
   "cell_type": "code",
   "execution_count": 11,
   "metadata": {},
   "outputs": [],
   "source": [
    "# Numpy array format [ntimes,nz,ny,nx]\n",
    "# This is time series data consisting of 171 time steps (100s frequency) of domain cell size 16 x 1165 x 1237.  "
   ]
  },
  {
   "cell_type": "markdown",
   "metadata": {},
   "source": [
    "## Let's look at initial surface fuel density [kg/m^3] values "
   ]
  },
  {
   "cell_type": "code",
   "execution_count": 12,
   "metadata": {},
   "outputs": [
    {
     "data": {
      "text/plain": [
       "array([[0.    , 0.    , 0.    , ..., 0.    , 0.    , 0.    ],\n",
       "       [0.    , 1.475 , 1.5205, ..., 0.4238, 0.4695, 0.    ],\n",
       "       [0.    , 1.445 , 1.512 , ..., 0.3406, 0.1775, 0.    ],\n",
       "       ...,\n",
       "       [0.    , 0.1775, 0.328 , ..., 0.2422, 0.1874, 0.    ],\n",
       "       [0.    , 0.1775, 0.694 , ..., 0.4834, 0.1775, 0.    ],\n",
       "       [0.    , 0.    , 0.    , ..., 0.    , 0.    , 0.    ]],\n",
       "      dtype=float16)"
      ]
     },
     "execution_count": 12,
     "metadata": {},
     "output_type": "execute_result"
    }
   ],
   "source": [
    "z['fuel_density'][0,0,:,:]"
   ]
  },
  {
   "cell_type": "markdown",
   "metadata": {},
   "source": [
    "<a id='gif'><h3>View images for Orig_Moisture experiment </h3></a>"
   ]
  },
  {
   "cell_type": "code",
   "execution_count": 13,
   "metadata": {},
   "outputs": [
    {
     "data": {
      "text/plain": [
       "['public/QF-Hitchiti-Piedmont-sample/Visualizations/Adjusted_Moisture_FuelDensity.gif',\n",
       " 'public/QF-Hitchiti-Piedmont-sample/Visualizations/Orig_Moisture_FuelDensity.gif']"
      ]
     },
     "execution_count": 13,
     "metadata": {},
     "output_type": "execute_result"
    }
   ],
   "source": [
    "# here are the images in the visualizations folder\n",
    "s3.ls('public/QF-Hitchiti-Piedmont-sample/Visualizations')"
   ]
  },
  {
   "cell_type": "markdown",
   "metadata": {},
   "source": [
    "#### View Orig_Moisture_FuelDensity.gif"
   ]
  },
  {
   "cell_type": "code",
   "execution_count": 14,
   "metadata": {},
   "outputs": [],
   "source": [
    "#with s3.open('public/QF-Hitchiti-Piedmont-sample/Visualizations/Orig_Moisture_FuelDensity.gif','rb') as f:\n",
    "#    display(Image(data=f.read()))  "
   ]
  },
  {
   "cell_type": "markdown",
   "metadata": {},
   "source": [
    "#### View Adjusted_Moisture_FuelDensity.gif"
   ]
  },
  {
   "cell_type": "code",
   "execution_count": 15,
   "metadata": {},
   "outputs": [],
   "source": [
    "#with s3.open('public/QF-Hitchiti-Piedmont-sample/Visualizations/Adjusted_Moisture_FuelDensity.gif','rb') as f:\n",
    "#    display(Image(data=f.read()))  "
   ]
  },
  {
   "cell_type": "markdown",
   "metadata": {},
   "source": [
    "<a id='metrics'><h3>Calculate fuel metrics </h3></a>"
   ]
  },
  {
   "cell_type": "markdown",
   "metadata": {},
   "source": [
    "An important fuel metric is **per layer consumption** which can be correlated with multiple fire effects. We'll partition the fuel acccording to the following layers:\n",
    "\n",
    "- 0-1 m\n",
    "- 1-3 m\n",
    "- 3-10 m\n",
    "- above 10 m\n",
    "\n",
    "and use the below eqn (1) to calculate percent consumption comparing initial and final fuel bulk density values:\n",
    "\n",
    "\n",
    "\n",
    "(1) $$    percent\\, consumption = \\frac{ |final - initial|}{initial} * 100 $$  "
   ]
  },
  {
   "cell_type": "code",
   "execution_count": 16,
   "metadata": {},
   "outputs": [],
   "source": [
    "def percent_consumption(initial,final):\n",
    "    \n",
    "    return 100 * np.absolute(np.sum(final) - np.sum(initial))/np.sum(initial)"
   ]
  },
  {
   "cell_type": "code",
   "execution_count": null,
   "metadata": {},
   "outputs": [],
   "source": [
    "# Prepare initial and final fuel density arrays\n",
    "\n",
    "initial = np.float32(z['fuel_density'][0,:,:,:])\n",
    "final = np.float32(z['fuel_density'][170,:,:,:])"
   ]
  },
  {
   "cell_type": "markdown",
   "metadata": {},
   "source": [
    "### Calculate total percent consumption"
   ]
  },
  {
   "cell_type": "code",
   "execution_count": null,
   "metadata": {},
   "outputs": [],
   "source": [
    "# total percent consumption for all layers\n",
    "\n",
    "percent_consumption(initial,final)"
   ]
  },
  {
   "cell_type": "markdown",
   "metadata": {},
   "source": [
    "### Calculate percent consumption for various layers"
   ]
  },
  {
   "cell_type": "code",
   "execution_count": null,
   "metadata": {},
   "outputs": [],
   "source": [
    "partitions = [(0,1),(1,3),(3,10),(10,16)]\n",
    "\n",
    "for a in partitions:    \n",
    "    print(f'layers {a[0]} - {a[1]} m:', percent_consumption(initial[a[0]:a[1]],final[a[0]:a[1]]))  \n",
    "   "
   ]
  },
  {
   "cell_type": "code",
   "execution_count": null,
   "metadata": {},
   "outputs": [],
   "source": []
  }
 ],
 "metadata": {
  "kernelspec": {
   "display_name": "Python 3",
   "language": "python",
   "name": "python3"
  },
  "language_info": {
   "codemirror_mode": {
    "name": "ipython",
    "version": 3
   },
   "file_extension": ".py",
   "mimetype": "text/x-python",
   "name": "python",
   "nbconvert_exporter": "python",
   "pygments_lexer": "ipython3",
   "version": "3.8.5"
  }
 },
 "nbformat": 4,
 "nbformat_minor": 4
}
