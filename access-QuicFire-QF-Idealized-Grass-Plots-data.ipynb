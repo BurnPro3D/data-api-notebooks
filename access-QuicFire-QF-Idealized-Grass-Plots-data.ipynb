{
 "cells": [
  {
   "cell_type": "markdown",
   "metadata": {},
   "source": [
    "## Notebook demonstrating how to access QF-Idealized-Grass-Plots data"
   ]
  },
  {
   "cell_type": "markdown",
   "metadata": {},
   "source": [
    "This notebook demonstrates how to access the QF-Idealized-Grass-Plots data."
   ]
  },
  {
   "cell_type": "markdown",
   "metadata": {},
   "source": [
    "<h3>Notebook Overview:</h3>\n",
    "<ol><a href='#introduction'><li>Introduction </li></a>\n",
    "    <a href='#s3'><li>Examine data in s3 bucket </li></a>\n",
    "    <a href='#zarr'><li>Open sample zarr file (ex. LongLineIgnition_WS1 experiment)</li></a>\n",
    "    <a href='#png'><li>Visualize png file</li></a>\n",
    "    <a href='#2d'><li>Visualize time series in 2d</li></a>\n",
    "    <a href='#3d'><li>Visualize time series in 3d</li></a>\n",
    "    \n",
    "    "
   ]
  },
  {
   "cell_type": "markdown",
   "metadata": {},
   "source": [
    "<a id='introduction'><h3>Introduction </h3></a>"
   ]
  },
  {
   "cell_type": "markdown",
   "metadata": {},
   "source": [
    "**Idealized Short/Long Fire Ignition on a Homogeneous Grassland Simulation**\n",
    "\n",
    "Please contact Daniel Rosales (dgiron@talltimbers.org) for any questions,\n",
    "comments or concerns about the simulations.\n",
    "\n",
    "QUIC-Fire -  Version: Jan2022\n",
    "\n",
    "Working alongside Los Alamos National Lab (LANL), Tall Timbers Research Station (TTRS)\n",
    "produced a parameter sweep to compare QUIC-Fire to FIRETEC. The canonical example of\n",
    "an idealized rectangular ignition over a homoegeneous grassland was used and developed.\n",
    "The QUIC-Fire simulations were made to match the FIRETEC simulations as closely as\n",
    "possible, with a notable exception made for the vertical grid resolution.  \n",
    "\n",
    "Provided in this folder are Zarr arrays containing the bulk density over time \n",
    "for 10 different runs: 5 wind speeds for a short and a long fire ignitions. The\n",
    "first time step then is the initial condition of the fuel. The arrays are \n",
    "structured as [ntimes,ny,nx,nz]. The 'ntimes' is not the total simulation time\n",
    "but the amount of time-steps that were outputted. For these simulations, \n",
    "that would be every 10 seconds. Provided is a txt file containing the\n",
    "number of timesteps for each simulation (Table 2). Ny and Nx will be set for 200, 200\n",
    "for all these runs, and Nz is set to 5 (vertical cells in the fuel grid).\n",
    "\n",
    "Provided is also the generating text files for the run."
   ]
  },
  {
   "cell_type": "markdown",
   "metadata": {},
   "source": [
    "**Table 1. Simulation parameter values**\n",
    "\n",
    "| Parameter | Value |\n",
    "| --- | --- |\n",
    "| Domain Size: | 400 x 400 m  [200 x 200 cells] |\n",
    "| Simulation Time: | Variable  |\n",
    "| Time step: | 1 s |\n",
    "| Vertical Resolution (Fuel Grid):|   5 cells high, 1m uniform [This is the grid that is exported.]  |\n",
    "| Vertical Resolution (Wind Grid): | 41 cells high, fuel cell heights contained in Vertical_Cell_Heights.txt |\n",
    "| Bulk Density: | 1.0 kg/m^3 |\n",
    "| Fuel Moisture: | 0.05 |\n",
    "| Fuel Height: | 0.7 m |\n",
    "| Wind Speeds: | 1,2,3,6,12 m/s |\n",
    "| Wind Direction: | 270 deg. relative to true North (i.e. 270 deg. is a western wind) |\n",
    "| Topography: | Flat|"
   ]
  },
  {
   "cell_type": "markdown",
   "metadata": {},
   "source": [
    "**Table 2. Number of Output Timesteps per Simulation [ntimes]**\n",
    "\n",
    "| Experiment | Number of Output Timesteps per Simulation [ntimes] |\n",
    "| --- | --- |\n",
    "| ShortLine_WS1: | 301 |\n",
    "| ShortLine_WS2: | 182 |\n",
    "| ShortLine_WS3: | 121 |\n",
    "| ShortLine_WS6: | 46 |\n",
    "| ShortLine_WS12: | 17 |\n",
    "| --- | --- |\n",
    "| LongLine_WS1: | 301 |\n",
    "| LongLine_WS2: | 121 |\n",
    "| LongLine_WS3: | 71 |\n",
    "| LongLine_WS6: | 31 |\n",
    "| LongLine_WS12: | 14 |"
   ]
  },
  {
   "cell_type": "markdown",
   "metadata": {},
   "source": [
    "The data are in <a href = \"https://zarr.readthedocs.io/\">Zarr </a> format, ideal for cloud-optimized storage of chunked, compressed, N-dimensional arrays"
   ]
  },
  {
   "cell_type": "code",
   "execution_count": null,
   "metadata": {},
   "outputs": [],
   "source": [
    "# !pip install zarr"
   ]
  },
  {
   "cell_type": "code",
   "execution_count": 1,
   "metadata": {},
   "outputs": [],
   "source": [
    "import zarr\n",
    "import s3fs\n",
    "import matplotlib.image as img\n",
    "import matplotlib.pyplot as plt\n",
    "import pyvista as pv\n",
    "import numpy as np"
   ]
  },
  {
   "cell_type": "code",
   "execution_count": 2,
   "metadata": {},
   "outputs": [],
   "source": [
    "s3 = s3fs.S3FileSystem(client_kwargs={\n",
    "                    \"endpoint_url\": 'https://wifire-data.sdsc.edu:9000',\n",
    "                    \"verify\": False,\n",
    "                },\n",
    "                    anon=True\n",
    "                )"
   ]
  },
  {
   "cell_type": "markdown",
   "metadata": {},
   "source": [
    "<a id='s3'><h3>Examine data in s3 bucket </h3></a>"
   ]
  },
  {
   "cell_type": "code",
   "execution_count": 3,
   "metadata": {},
   "outputs": [
    {
     "data": {
      "text/plain": [
       "['public/QF-Idealized-Grass-Plots/LongLineIgnition_WS1',\n",
       " 'public/QF-Idealized-Grass-Plots/LongLineIgnition_WS12',\n",
       " 'public/QF-Idealized-Grass-Plots/LongLineIgnition_WS2',\n",
       " 'public/QF-Idealized-Grass-Plots/LongLineIgnition_WS3',\n",
       " 'public/QF-Idealized-Grass-Plots/LongLineIgnition_WS6',\n",
       " 'public/QF-Idealized-Grass-Plots/Ntimes_per_Run.txt.txt',\n",
       " 'public/QF-Idealized-Grass-Plots/ReadMe.txt',\n",
       " 'public/QF-Idealized-Grass-Plots/RunFiles',\n",
       " 'public/QF-Idealized-Grass-Plots/ShortLineIgnition_WS1',\n",
       " 'public/QF-Idealized-Grass-Plots/ShortLineIgnition_WS12',\n",
       " 'public/QF-Idealized-Grass-Plots/ShortLineIgnition_WS2',\n",
       " 'public/QF-Idealized-Grass-Plots/ShortLineIgnition_WS3',\n",
       " 'public/QF-Idealized-Grass-Plots/ShortLineIgnition_WS6',\n",
       " 'public/QF-Idealized-Grass-Plots/Visualizations']"
      ]
     },
     "execution_count": 3,
     "metadata": {},
     "output_type": "execute_result"
    }
   ],
   "source": [
    "# Let's examine the file structure of the s3 bucket holding the data. \n",
    "# There are folders containing LongLineIgnition and ShortLinIgnition data as well as Visualizations\n",
    "\n",
    "s3.ls('public/QF-Idealized-Grass-Plots/')"
   ]
  },
  {
   "cell_type": "code",
   "execution_count": 4,
   "metadata": {},
   "outputs": [
    {
     "data": {
      "text/plain": [
       "['public/QF-Idealized-Grass-Plots/LongLineIgnition_WS1/Outputs.zarr']"
      ]
     },
     "execution_count": 4,
     "metadata": {},
     "output_type": "execute_result"
    }
   ],
   "source": [
    "# We can see the Outputs.zarr array for the particular LongLineIgnition_WS1 experiment\n",
    "s3.ls('public/QF-Idealized-Grass-Plots/LongLineIgnition_WS1/')"
   ]
  },
  {
   "cell_type": "markdown",
   "metadata": {},
   "source": [
    "<a id='zarr'><h3>Let's open the data for LongLineIgnition_WS1 experiment and explore further </h3></a>"
   ]
  },
  {
   "cell_type": "code",
   "execution_count": 5,
   "metadata": {},
   "outputs": [],
   "source": [
    "# set root for appropriate data path (in this case, let's look at '/public/QF-Idealized-Grass-Plots/LongLineIgnition_WS1/Outputs.zarr' data)\n",
    "\n",
    "store = s3fs.S3Map(root='/public/QF-Idealized-Grass-Plots/LongLineIgnition_WS1/Outputs.zarr', s3=s3, check=False)\n",
    "z = zarr.open(store=store)"
   ]
  },
  {
   "cell_type": "markdown",
   "metadata": {},
   "source": [
    "### Here's some basic info on the zarr array"
   ]
  },
  {
   "cell_type": "code",
   "execution_count": 6,
   "metadata": {},
   "outputs": [
    {
     "data": {
      "text/plain": [
       "(301, 200, 200, 5)"
      ]
     },
     "execution_count": 6,
     "metadata": {},
     "output_type": "execute_result"
    }
   ],
   "source": [
    "z.shape"
   ]
  },
  {
   "cell_type": "code",
   "execution_count": 7,
   "metadata": {},
   "outputs": [
    {
     "data": {
      "text/plain": [
       "numpy.ndarray"
      ]
     },
     "execution_count": 7,
     "metadata": {},
     "output_type": "execute_result"
    }
   ],
   "source": [
    "type(z[:,:,:,:])"
   ]
  },
  {
   "cell_type": "code",
   "execution_count": 8,
   "metadata": {},
   "outputs": [],
   "source": [
    "# Numpy array format [ntimes,ny,nx,nz]\n",
    "# This is time series data consisting of 301 time steps (1s frequency) of domain cell size 200 x 200 x 5.  "
   ]
  },
  {
   "cell_type": "markdown",
   "metadata": {},
   "source": [
    "#### Let's take a look at initial bulk density values [kg/m^3]"
   ]
  },
  {
   "cell_type": "code",
   "execution_count": 9,
   "metadata": {},
   "outputs": [
    {
     "data": {
      "text/plain": [
       "array([[[0. , 0. , 0. , 0. , 0. ],\n",
       "        [0. , 0. , 0. , 0. , 0. ],\n",
       "        [0. , 0. , 0. , 0. , 0. ],\n",
       "        ...,\n",
       "        [0. , 0. , 0. , 0. , 0. ],\n",
       "        [0. , 0. , 0. , 0. , 0. ],\n",
       "        [0. , 0. , 0. , 0. , 0. ]],\n",
       "\n",
       "       [[0. , 0. , 0. , 0. , 0. ],\n",
       "        [0.7, 0. , 0. , 0. , 0. ],\n",
       "        [0.7, 0. , 0. , 0. , 0. ],\n",
       "        ...,\n",
       "        [0.7, 0. , 0. , 0. , 0. ],\n",
       "        [0.7, 0. , 0. , 0. , 0. ],\n",
       "        [0. , 0. , 0. , 0. , 0. ]],\n",
       "\n",
       "       [[0. , 0. , 0. , 0. , 0. ],\n",
       "        [0.7, 0. , 0. , 0. , 0. ],\n",
       "        [0.7, 0. , 0. , 0. , 0. ],\n",
       "        ...,\n",
       "        [0.7, 0. , 0. , 0. , 0. ],\n",
       "        [0.7, 0. , 0. , 0. , 0. ],\n",
       "        [0. , 0. , 0. , 0. , 0. ]],\n",
       "\n",
       "       ...,\n",
       "\n",
       "       [[0. , 0. , 0. , 0. , 0. ],\n",
       "        [0.7, 0. , 0. , 0. , 0. ],\n",
       "        [0.7, 0. , 0. , 0. , 0. ],\n",
       "        ...,\n",
       "        [0.7, 0. , 0. , 0. , 0. ],\n",
       "        [0.7, 0. , 0. , 0. , 0. ],\n",
       "        [0. , 0. , 0. , 0. , 0. ]],\n",
       "\n",
       "       [[0. , 0. , 0. , 0. , 0. ],\n",
       "        [0.7, 0. , 0. , 0. , 0. ],\n",
       "        [0.7, 0. , 0. , 0. , 0. ],\n",
       "        ...,\n",
       "        [0.7, 0. , 0. , 0. , 0. ],\n",
       "        [0.7, 0. , 0. , 0. , 0. ],\n",
       "        [0. , 0. , 0. , 0. , 0. ]],\n",
       "\n",
       "       [[0. , 0. , 0. , 0. , 0. ],\n",
       "        [0. , 0. , 0. , 0. , 0. ],\n",
       "        [0. , 0. , 0. , 0. , 0. ],\n",
       "        ...,\n",
       "        [0. , 0. , 0. , 0. , 0. ],\n",
       "        [0. , 0. , 0. , 0. , 0. ],\n",
       "        [0. , 0. , 0. , 0. , 0. ]]], dtype=float16)"
      ]
     },
     "execution_count": 9,
     "metadata": {},
     "output_type": "execute_result"
    }
   ],
   "source": [
    "z[0,:,:,:]"
   ]
  },
  {
   "cell_type": "markdown",
   "metadata": {},
   "source": [
    "#### basic statistics on the bulk density values"
   ]
  },
  {
   "cell_type": "code",
   "execution_count": 10,
   "metadata": {},
   "outputs": [
    {
     "data": {
      "text/plain": [
       "0.7"
      ]
     },
     "execution_count": 10,
     "metadata": {},
     "output_type": "execute_result"
    }
   ],
   "source": [
    "z[0,:,:,:].max()"
   ]
  },
  {
   "cell_type": "code",
   "execution_count": 11,
   "metadata": {},
   "outputs": [
    {
     "data": {
      "text/plain": [
       "0.0"
      ]
     },
     "execution_count": 11,
     "metadata": {},
     "output_type": "execute_result"
    }
   ],
   "source": [
    "z[0,:,:,:].min()"
   ]
  },
  {
   "cell_type": "code",
   "execution_count": 12,
   "metadata": {},
   "outputs": [
    {
     "data": {
      "text/plain": [
       "0.1372"
      ]
     },
     "execution_count": 12,
     "metadata": {},
     "output_type": "execute_result"
    }
   ],
   "source": [
    "z[0,:,:,:].mean()"
   ]
  },
  {
   "cell_type": "code",
   "execution_count": 13,
   "metadata": {},
   "outputs": [
    {
     "data": {
      "text/plain": [
       "0.278"
      ]
     },
     "execution_count": 13,
     "metadata": {},
     "output_type": "execute_result"
    }
   ],
   "source": [
    "z[0,:,:,:].std()"
   ]
  },
  {
   "cell_type": "markdown",
   "metadata": {},
   "source": [
    "<a id='png'><h3>View png file for LongLineIgnition_WS1 experiment </h3></a>"
   ]
  },
  {
   "cell_type": "code",
   "execution_count": 14,
   "metadata": {},
   "outputs": [
    {
     "data": {
      "text/plain": [
       "['public/QF-Idealized-Grass-Plots/Visualizations/LongLine_WS1.png',\n",
       " 'public/QF-Idealized-Grass-Plots/Visualizations/LongLine_WS12.png',\n",
       " 'public/QF-Idealized-Grass-Plots/Visualizations/LongLine_WS2.png',\n",
       " 'public/QF-Idealized-Grass-Plots/Visualizations/LongLine_WS3.png',\n",
       " 'public/QF-Idealized-Grass-Plots/Visualizations/LongLine_WS6.png',\n",
       " 'public/QF-Idealized-Grass-Plots/Visualizations/ShortLine_WS1.png',\n",
       " 'public/QF-Idealized-Grass-Plots/Visualizations/ShortLine_WS12.png',\n",
       " 'public/QF-Idealized-Grass-Plots/Visualizations/ShortLine_WS2.png',\n",
       " 'public/QF-Idealized-Grass-Plots/Visualizations/ShortLine_WS3.png',\n",
       " 'public/QF-Idealized-Grass-Plots/Visualizations/ShortLine_WS6.png']"
      ]
     },
     "execution_count": 14,
     "metadata": {},
     "output_type": "execute_result"
    }
   ],
   "source": [
    "# here are the images in the visualizations folder\n",
    "s3.ls('public/QF-Idealized-Grass-Plots/Visualizations')"
   ]
  },
  {
   "cell_type": "markdown",
   "metadata": {},
   "source": [
    "#### Let's view LongLine_WS1.png"
   ]
  },
  {
   "cell_type": "code",
   "execution_count": 15,
   "metadata": {},
   "outputs": [
    {
     "data": {
      "text/plain": [
       "<matplotlib.image.AxesImage at 0x7fadfda136a0>"
      ]
     },
     "execution_count": 15,
     "metadata": {},
     "output_type": "execute_result"
    },
    {
     "data": {
      "image/png": "[encoded data removed]",
      "text/plain": [
       "<Figure size 432x288 with 1 Axes>"
      ]
     },
     "metadata": {
      "needs_background": "light"
     },
     "output_type": "display_data"
    }
   ],
   "source": [
    "with s3.open('public/QF-Idealized-Grass-Plots/Visualizations/LongLine_WS1.png', mode='rb') as f: \n",
    "    i=img.imread(f)\n",
    "plt.imshow(i) "
   ]
  },
  {
   "cell_type": "markdown",
   "metadata": {},
   "source": [
    "# visualize time series"
   ]
  },
  {
   "cell_type": "markdown",
   "metadata": {},
   "source": [
    "<a id='2d'><h3>Plot bulk density values at surface for timesteps 0,50,100,150,150,200,250,300 s </h3></a>"
   ]
  },
  {
   "cell_type": "code",
   "execution_count": 16,
   "metadata": {},
   "outputs": [
    {
     "data": {
      "image/png": "[encoded data removed]",
      "text/plain": [
       "<Figure size 720x720 with 8 Axes>"
      ]
     },
     "metadata": {
      "needs_background": "light"
     },
     "output_type": "display_data"
    }
   ],
   "source": [
    "data = np.float32(z)\n",
    "\n",
    "fig, axs = plt.subplots(2, 4,figsize=(10,10))\n",
    "times=[0,50,100,150,150,200,250,300]\n",
    "\n",
    "for i, ax in enumerate(axs.flatten()):\n",
    "    ax.set_title(f\"Time step: t={times[i]}\")\n",
    "    ax.imshow(data[times[i],:,:,0],cmap='rainbow',origin=\"lower\")\n",
    "fig.tight_layout()    "
   ]
  },
  {
   "cell_type": "markdown",
   "metadata": {},
   "source": [
    "<a id='3d'><h3>Plot bulk density values in 3d for timesteps 0,50,100,150,150,200,250,300 s </h3></a>"
   ]
  },
  {
   "cell_type": "code",
   "execution_count": 17,
   "metadata": {},
   "outputs": [
    {
     "data": {
      "image/png": "[encoded data removed]",
      "text/plain": [
       "<PIL.Image.Image image mode=RGB size=1000x100 at 0x7FADE64127C0>"
      ]
     },
     "metadata": {},
     "output_type": "display_data"
    }
   ],
   "source": [
    "data = np.float32(z)\n",
    "plotter = pv.Plotter(shape=(1, 8), window_size=(1000,100))\n",
    "times=[0,50,100,150,150,200,250,300]\n",
    "for i in range(8):\n",
    "    plotter.subplot(0, i)\n",
    "    plotter.add_text(f\"Time step: t={times[i]}\", font_size=10)\n",
    "    data[times[i],:,:,:][data[times[i],:,:,:] == 0] = -1  # move zeros to -1 for thresholding\n",
    "    grid = pv.UniformGrid() # convert the 3D array to a Pyvista UniformGrid\n",
    "    grid.dimensions = np.array(data[times[i],:,:,:].shape) + 1\n",
    "    grid.spacing = [1,1,1]\n",
    "    grid.cell_arrays['values'] = data[times[i],:,:,:].flatten(order='F')\n",
    "    grid = grid.threshold(0)\n",
    "    plotter.add_mesh(grid, cmap='rainbow') # add the array to the plotter instance\n",
    "plotter.show();"
   ]
  },
  {
   "cell_type": "code",
   "execution_count": null,
   "metadata": {},
   "outputs": [],
   "source": []
  },
  {
   "cell_type": "markdown",
   "metadata": {},
   "source": [
    "References:\n",
    "- <a href = \"https://doi.org/10.1016/j.envsoft.2019.104616\">QUIC-fire: A fast-running simulation tool for prescribed fire planning, R.R. Linn et al. </a>\n"
   ]
  },
  {
   "cell_type": "code",
   "execution_count": null,
   "metadata": {},
   "outputs": [],
   "source": []
  }
 ],
 "metadata": {
  "kernelspec": {
   "display_name": "Python 3",
   "language": "python",
   "name": "python3"
  },
  "language_info": {
   "codemirror_mode": {
    "name": "ipython",
    "version": 3
   },
   "file_extension": ".py",
   "mimetype": "text/x-python",
   "name": "python",
   "nbconvert_exporter": "python",
   "pygments_lexer": "ipython3",
   "version": "3.8.5"
  }
 },
 "nbformat": 4,
 "nbformat_minor": 4
}
